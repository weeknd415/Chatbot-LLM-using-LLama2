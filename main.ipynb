{
 "cells": [
  {
   "cell_type": "code",
   "execution_count": 1,
   "metadata": {},
   "outputs": [],
   "source": [
    "from langchain_openai import ChatOpenAI\n",
    "from langchain_core.prompts import ChatPromptTemplate\n",
    "from langchain_core.output_parsers import StrOutputParser\n",
    "from langchain_community.llms import Ollama\n",
    "import streamlit as st\n",
    "import os"
   ]
  },
  {
   "cell_type": "code",
   "execution_count": 6,
   "metadata": {},
   "outputs": [],
   "source": [
    "os.environ[\"LANGCHAIN_TRACING_V2\"]=\"true\"\n",
    "os.environ[\"LANGCHAIN_API_KEY\"]=\"ls__82540b8d8f864814b38069e7a4b4cdac\""
   ]
  },
  {
   "cell_type": "code",
   "execution_count": 7,
   "metadata": {},
   "outputs": [],
   "source": [
    "prompt=ChatPromptTemplate.from_messages(\n",
    "    [\n",
    "        (\"system\",\"You are an AI assistant, help user with thier queries quickly\"),\n",
    "        (\"user\",\"Question:{question}\")\n",
    "    ]\n",
    ")"
   ]
  },
  {
   "cell_type": "code",
   "execution_count": 8,
   "metadata": {},
   "outputs": [],
   "source": [
    "llm=Ollama(model=\"llama2\")\n",
    "output_parser=StrOutputParser()\n",
    "chain=prompt|llm|output_parser"
   ]
  },
  {
   "cell_type": "code",
   "execution_count": 10,
   "metadata": {},
   "outputs": [
    {
     "data": {
      "text/plain": [
       "\"\\nTitle: The Fascinating World of Mantises: Uncovering the Secrets of These Legged Insects\\n\\nIntroduction:\\nMantises are one of the most fascinating creatures in the insect world, with their impressive leg span and unique body structure. They have been a topic of interest for many entomologists and naturalists throughout history. In this blog post, we will delve into the world of mantises, exploring their behavior, habitat, and interesting facts about these fascinating creatures.\\n\\nBody:\\n\\nBehavior and Habitat:\\nMantises are insects that belong to the order Mantodea. There are over 2,400 species of mantises found in tropical and subtropical regions around the world. They are known for their impressive leg span, which can reach up to 15 centimeters (6 inches) in some species. Mantises have a unique body structure, with a triangular-shaped body and two large compound eyes that help them detect prey.\\n\\nMantises are predators, feeding on other insects, spiders, and even small lizards. They use their powerful front legs to capture and hold onto their prey, while their hind legs are used for movement and balance. Mantises are also known to be cannibalistic, with some species engaging in sexual cannibalism where the female eats the male after mating.\\n\\nInteresting Facts:\\n\\n1. Mantises have a unique way of communicating through body language and pheromones. They use these chemical signals to attract mates and defend their territory.\\n2. Some species of mantises are known to be intelligent, problem-solvers, and even learn from experience. They have been observed using tools to capture prey and escape predators.\\n3. Mantises have a complex reproductive system, with males displaying elaborate courtship behaviors to attract females. In some species, the male will even provide food for the female during mating.\\n4. Mantises have a fascinating life cycle, with eggs that hatch into nymphs that undergo a series of molts before reaching adulthood. The nymphs can be found in various habitats, including forests, grasslands, and even gardens.\\n\\nConclusion:\\nMantises are incredible creatures that have fascinated humans for centuries with their unique body structure, impressive leg span, and intelligent behavior. Their complex social dynamics and reproductive habits make them a fascinating topic of study for entomologists and naturalists alike. Whether you're an insect enthusiast or just a curious observer, the world of mantises is sure to captivate and inspire.\""
      ]
     },
     "execution_count": 10,
     "metadata": {},
     "output_type": "execute_result"
    }
   ],
   "source": [
    "chain.invoke({\"question\":\"Write a blog about mantis.\"})"
   ]
  },
  {
   "cell_type": "code",
   "execution_count": null,
   "metadata": {},
   "outputs": [],
   "source": []
  }
 ],
 "metadata": {
  "kernelspec": {
   "display_name": "myenv",
   "language": "python",
   "name": "python3"
  },
  "language_info": {
   "codemirror_mode": {
    "name": "ipython",
    "version": 3
   },
   "file_extension": ".py",
   "mimetype": "text/x-python",
   "name": "python",
   "nbconvert_exporter": "python",
   "pygments_lexer": "ipython3",
   "version": "3.11.8"
  }
 },
 "nbformat": 4,
 "nbformat_minor": 2
}
